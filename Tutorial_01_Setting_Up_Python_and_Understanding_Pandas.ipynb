{
  "nbformat": 4,
  "nbformat_minor": 0,
  "metadata": {
    "colab": {
      "provenance": [],
      "toc_visible": true,
      "authorship_tag": "ABX9TyO3/keeznRF/OOppBqaL6Vb",
      "include_colab_link": true
    },
    "kernelspec": {
      "name": "python3",
      "display_name": "Python 3"
    },
    "language_info": {
      "name": "python"
    }
  },
  "cells": [
    {
      "cell_type": "markdown",
      "metadata": {
        "id": "view-in-github",
        "colab_type": "text"
      },
      "source": [
        "<a href=\"https://colab.research.google.com/github/millie-sky/Python-tutorials/blob/main/Tutorial_01_Setting_Up_Python_and_Understanding_Pandas.ipynb\" target=\"_parent\"><img src=\"https://colab.research.google.com/assets/colab-badge.svg\" alt=\"Open In Colab\"/></a>"
      ]
    },
    {
      "cell_type": "markdown",
      "source": [
        "# **Tutorial 01: Setting Up Python and Understanding Pandas**\n",
        "\n"
      ],
      "metadata": {
        "id": "K-vAmdWsD6Wm"
      }
    },
    {
      "cell_type": "markdown",
      "source": [
        "# Introduction\n",
        "In this first tutorial, we will set you up with Python and familiarise you with one of its most important libraries, Pandas. By the end of this tutorial, you'll have the opportunity to run some Python code and learn some basic operations in Pandas. Let's get started!\"\n",
        "\n",
        "## What is Python?\n",
        "Python is a high-level, interpreted programming language known for its simplicity and readability. It's a versatile language used for a wide range of applications, from web development to data science and artificial intelligence. Python's syntax is clear and intuitive, making it an excellent choice for beginners, yet it's powerful enough for use in complex, large-scale applications.\n",
        "\n",
        "## Python Libraries: Extending Python's Capabilities\n",
        "Python's true power lies in its vast ecosystem of libraries—collections of modules and functions that extend Python's capabilities. These libraries are designed for various purposes, including web development (Django, Flask), machine learning (scikit-learn, TensorFlow), and data analysis (numpy, pandas). By leveraging these libraries, we can perform complex tasks with relatively simple and concise Python code.\n"
      ],
      "metadata": {
        "id": "vwCZo007P6Rk"
      }
    },
    {
      "cell_type": "markdown",
      "source": [
        "# Setting Up the Environment in Google Colab\n",
        "In this section, we'll cover the initial steps required to start working with Python and pandas in Google Colab. Google Colab provides a Jupyter notebook environment that requires no setup on your part and offers free access to computing resources, making it an excellent platform for data analysis projects."
      ],
      "metadata": {
        "id": "9nEklswnTUvW"
      }
    },
    {
      "cell_type": "markdown",
      "metadata": {
        "id": "5fCEDCU_qrC0"
      },
      "source": [
        "## What is Colab?\n",
        "\n",
        "Colab, or ‘Colaboratory’, allows you to write and execute Python in your browser, with\n",
        "- Zero configuration required\n",
        "- Access to GPUs free of charge\n",
        "- Easy sharing\n",
        "\n",
        "Watch <a href=\"https://www.youtube.com/watch?v=inN8seMm7UI\">Introduction to Colab</a> to find out more, or just get started below!"
      ]
    },
    {
      "cell_type": "markdown",
      "metadata": {
        "id": "GJBs_flRovLc"
      },
      "source": [
        "## Getting started\n",
        "\n",
        "The document that you are reading is not a static web page, but an interactive environment called a <strong>Colab notebook</strong> that lets you write and execute code.\n",
        "\n",
        "For example, here is a <strong>code cell</strong> with a short Python script that computes a value, stores it in a variable and prints the result:"
      ]
    },
    {
      "cell_type": "code",
      "execution_count": 1,
      "metadata": {
        "colab": {
          "base_uri": "https://localhost:8080/"
        },
        "id": "gJr_9dXGpJ05",
        "outputId": "3901d231-cdf2-44ab-dc8d-fd4a80960e80"
      },
      "outputs": [
        {
          "output_type": "execute_result",
          "data": {
            "text/plain": [
              "86400"
            ]
          },
          "metadata": {},
          "execution_count": 1
        }
      ],
      "source": [
        "seconds_in_a_day = 24 * 60 * 60\n",
        "seconds_in_a_day"
      ]
    },
    {
      "cell_type": "markdown",
      "metadata": {
        "id": "2fhs6GZ4qFMx"
      },
      "source": [
        "To execute the code in the above cell, select it with a click and then either press the play button to the left of the code, or use the keyboard shortcut 'Command/Ctrl+Enter'. To edit the code, just click the cell and start editing.\n",
        "\n",
        "Variables that you define in one cell can later be used in other cells:"
      ]
    },
    {
      "cell_type": "code",
      "execution_count": 2,
      "metadata": {
        "colab": {
          "base_uri": "https://localhost:8080/"
        },
        "id": "-gE-Ez1qtyIA",
        "outputId": "39ab1fa8-3823-470c-ef6e-8df1c502c3c0"
      },
      "outputs": [
        {
          "output_type": "execute_result",
          "data": {
            "text/plain": [
              "604800"
            ]
          },
          "metadata": {},
          "execution_count": 2
        }
      ],
      "source": [
        "seconds_in_a_week = 7 * seconds_in_a_day\n",
        "seconds_in_a_week"
      ]
    },
    {
      "cell_type": "markdown",
      "metadata": {
        "id": "lSrWNr3MuFUS"
      },
      "source": [
        "Colab notebooks allow you to combine <strong>executable code</strong> and <strong>rich text</strong> in a single document, along with <strong>images</strong>, <strong>HTML</strong>, <strong>LaTeX</strong> and more. When you create your own Colab notebooks, they are stored in your Google Drive account. You can easily share your Colab notebooks with co-workers, allowing them to comment on your notebooks or even edit them. To find out more, see <a href=\"/notebooks/basic_features_overview.ipynb\">Overview of Colab</a>. To create a new Colab notebook you can use the File menu above, or use the following link: <a href=\"http://colab.research.google.com#create=true\">Create a new Colab notebook</a>.\n",
        "\n",
        "Colab notebooks are Jupyter notebooks that are hosted by Colab. To find out more about the Jupyter project, see <a href=\"https://www.jupyter.org\">jupyter.org</a>."
      ]
    },
    {
      "cell_type": "markdown",
      "source": [
        "# Basic Python Syntax and Concepts\n",
        "Before diving into pandas, let's briefly go over some basic Python syntax and concepts. This will help you understand the foundational elements of Python programming."
      ],
      "metadata": {
        "id": "oSbydieHU2jj"
      }
    },
    {
      "cell_type": "markdown",
      "source": [
        "### Variables\n",
        "Variables in Python are created by simply assigning a value to a name. Unlike SQL, there's no need to declare a variable before using it."
      ],
      "metadata": {
        "id": "e0d7eUqI1huU"
      }
    },
    {
      "cell_type": "code",
      "source": [
        "# Assigning a value to a variable\n",
        "number_of_students = 30\n",
        "course_name = \"Data Science 101\""
      ],
      "metadata": {
        "id": "UV9SxKIjVHMM"
      },
      "execution_count": 3,
      "outputs": []
    },
    {
      "cell_type": "markdown",
      "source": [
        "### Data Types\n",
        "Python automatically detects the data type of a variable. The basic types include integers, floats (decimal numbers), strings (text), and booleans (True/False).\n",
        "\n"
      ],
      "metadata": {
        "id": "irHhfihpWawX"
      }
    },
    {
      "cell_type": "code",
      "source": [
        "student_count = 30  # Integer\n",
        "course_rating = 4.5  # Float\n",
        "course_name = \"Data Science 101\"  # String\n",
        "course_active = True  # Boolean"
      ],
      "metadata": {
        "id": "2iF6caYMWexG"
      },
      "execution_count": 4,
      "outputs": []
    },
    {
      "cell_type": "markdown",
      "source": [
        "### Lists\n",
        "Lists in Python are equivalent to arrays in other languages and can hold a collection of items."
      ],
      "metadata": {
        "id": "bYqV4roJXFMq"
      }
    },
    {
      "cell_type": "code",
      "source": [
        "students = [\"Alice\", \"Bob\", \"Charlie\"] # list of strings\n",
        "mixed_list = [5, 4, 4.5, \"Bob\" ] # list of different data types"
      ],
      "metadata": {
        "id": "1xptN5rgXpX-"
      },
      "execution_count": 5,
      "outputs": []
    },
    {
      "cell_type": "markdown",
      "source": [
        "### Loops\n",
        "Loops in Python, such as the for loop, allow you to iterate over a sequence of values."
      ],
      "metadata": {
        "id": "WhUDBQXYXsi9"
      }
    },
    {
      "cell_type": "code",
      "source": [
        "for student in students:\n",
        "    print(student)"
      ],
      "metadata": {
        "colab": {
          "base_uri": "https://localhost:8080/"
        },
        "id": "QTWPKMOHXuvd",
        "outputId": "359c4fb0-9d65-4e89-9857-5c8e97d06730"
      },
      "execution_count": 6,
      "outputs": [
        {
          "output_type": "stream",
          "name": "stdout",
          "text": [
            "Alice\n",
            "Bob\n",
            "Charlie\n"
          ]
        }
      ]
    },
    {
      "cell_type": "markdown",
      "source": [
        "### Conditional Statements\n",
        "Conditional statements in Python, using if, elif, and else, allow you to execute different blocks of code based on certain conditions."
      ],
      "metadata": {
        "id": "tNM5fexfXzJD"
      }
    },
    {
      "cell_type": "code",
      "source": [
        "if course_rating > 4:\n",
        "    print(\"Highly rated course\")\n",
        "else:\n",
        "    print(\"This course has room for improvement\")"
      ],
      "metadata": {
        "colab": {
          "base_uri": "https://localhost:8080/"
        },
        "id": "Qz6WeTCmX3ct",
        "outputId": "2916d107-e4cc-44e5-c03a-8e7c10666bb4"
      },
      "execution_count": 7,
      "outputs": [
        {
          "output_type": "stream",
          "name": "stdout",
          "text": [
            "Highly rated course\n"
          ]
        }
      ]
    },
    {
      "cell_type": "markdown",
      "source": [
        "### Functions\n",
        "Functions in Python are defined using the def keyword and are used to encapsulate reusable blocks of code."
      ],
      "metadata": {
        "id": "z8Qj7xuXYF0p"
      }
    },
    {
      "cell_type": "code",
      "source": [
        "def greet(student_name):\n",
        "    return f\"Welcome, {student_name}!\"\n",
        "\n",
        "print(greet(\"Alice\"))"
      ],
      "metadata": {
        "colab": {
          "base_uri": "https://localhost:8080/"
        },
        "id": "MrUW1s0hYH9U",
        "outputId": "d2b9ddeb-d2c9-4148-960f-da9e97da0b19"
      },
      "execution_count": 8,
      "outputs": [
        {
          "output_type": "stream",
          "name": "stdout",
          "text": [
            "Welcome, Alice!\n"
          ]
        }
      ]
    },
    {
      "cell_type": "markdown",
      "source": [
        "# Fundamentals of Pandas\n",
        "\n",
        "## What is Pandas?\n",
        "\n",
        "Pandas is an open-source library that provides high-performance, easy-to-use data structures and data analysis tools for Python. The name \"pandas\" is derived from \"panel data,\" an econometrics term for multidimensional structured data sets.\n",
        "\n",
        "Think of pandas as Python's answer to the power and flexibility of SQL for data manipulation, with added capabilities for handling a wider variety of data formats and for performing complex analyses and visualisations directly within Python. Its primary data structure, the DataFrame, is intuitively similar to a SQL table in how they organize data in rows and columns but with much more flexibility.\n",
        "\n",
        "**To use this library, let's first import it: `import pandas as pd`**"
      ],
      "metadata": {
        "id": "IQQFJrksYdFJ"
      }
    },
    {
      "cell_type": "code",
      "source": [
        "# Importing the library\n",
        "import pandas as pd"
      ],
      "metadata": {
        "id": "Kz65TT3pm2Xi"
      },
      "execution_count": 9,
      "outputs": []
    },
    {
      "cell_type": "markdown",
      "source": [
        "## Core Data Structures"
      ],
      "metadata": {
        "id": "QFy5d0GTYlOG"
      }
    },
    {
      "cell_type": "markdown",
      "source": [
        "### Series\n",
        "A Series is a one-dimensional array-like object containing a sequence of values (similar to a list in Python) and an associated array of data labels, called its index. Think of it as a single column of a table."
      ],
      "metadata": {
        "id": "qE_v6d6CBD_W"
      }
    },
    {
      "cell_type": "markdown",
      "source": [
        "**Creating a Series**"
      ],
      "metadata": {
        "id": "RWkVsSWuB4bE"
      }
    },
    {
      "cell_type": "code",
      "source": [
        "# Creating a Series from a list\n",
        "data_list = [10, 20, 30, 40, 50]\n",
        "series_from_list = pd.Series(data_list)\n",
        "\n",
        "print(\"Series from list:\")\n",
        "print(series_from_list)"
      ],
      "metadata": {
        "colab": {
          "base_uri": "https://localhost:8080/"
        },
        "id": "VRUj5jkdYtmy",
        "outputId": "d09b7154-d92d-432f-eac0-32f56ea41422"
      },
      "execution_count": 10,
      "outputs": [
        {
          "output_type": "stream",
          "name": "stdout",
          "text": [
            "Series from list:\n",
            "0    10\n",
            "1    20\n",
            "2    30\n",
            "3    40\n",
            "4    50\n",
            "dtype: int64\n"
          ]
        }
      ]
    },
    {
      "cell_type": "code",
      "source": [
        "# Creating a Series from a dictionary\n",
        "data_dict = {'A': 100, 'B': 200, 'C': 300}\n",
        "series_from_dict = pd.Series(data_dict)\n",
        "\n",
        "print(\"\\nSeries from dictionary:\")\n",
        "print(series_from_dict)"
      ],
      "metadata": {
        "colab": {
          "base_uri": "https://localhost:8080/"
        },
        "id": "ckINnddSGNu_",
        "outputId": "7f68be01-5a3b-4608-9b55-51543ad66116"
      },
      "execution_count": 11,
      "outputs": [
        {
          "output_type": "stream",
          "name": "stdout",
          "text": [
            "\n",
            "Series from dictionary:\n",
            "A    100\n",
            "B    200\n",
            "C    300\n",
            "dtype: int64\n"
          ]
        }
      ]
    },
    {
      "cell_type": "markdown",
      "source": [
        "**Accessing Elements**"
      ],
      "metadata": {
        "id": "vGYbwstwB9-L"
      }
    },
    {
      "cell_type": "code",
      "source": [
        "# Accessing elements by index label\n",
        "print(\"Accessing element at index label 'B':\", series_from_dict['B'])"
      ],
      "metadata": {
        "colab": {
          "base_uri": "https://localhost:8080/"
        },
        "id": "vHzhD5TMCBET",
        "outputId": "ba5ee5a1-5c7e-48a1-a859-14e96c979790"
      },
      "execution_count": 12,
      "outputs": [
        {
          "output_type": "stream",
          "name": "stdout",
          "text": [
            "Accessing element at index label 'B': 200\n"
          ]
        }
      ]
    },
    {
      "cell_type": "code",
      "source": [
        "# Accessing elements by integer position\n",
        "print(\"Accessing element at integer position 2:\", series_from_list.iloc[2])"
      ],
      "metadata": {
        "colab": {
          "base_uri": "https://localhost:8080/"
        },
        "id": "quqQl64hGUCM",
        "outputId": "9eec14eb-5fc1-404c-cff4-31e65d518cb5"
      },
      "execution_count": 13,
      "outputs": [
        {
          "output_type": "stream",
          "name": "stdout",
          "text": [
            "Accessing element at integer position 2: 30\n"
          ]
        }
      ]
    },
    {
      "cell_type": "markdown",
      "source": [
        "**Attributes and Methods**"
      ],
      "metadata": {
        "id": "xebzynPJCGi-"
      }
    },
    {
      "cell_type": "code",
      "source": [
        "# Attribute: index\n",
        "print(\"Index of the Series:\", series_from_list.index)"
      ],
      "metadata": {
        "colab": {
          "base_uri": "https://localhost:8080/"
        },
        "id": "vK4aMpGrCGNX",
        "outputId": "060c9770-511c-4684-9d0c-eeab00cd2b95"
      },
      "execution_count": 14,
      "outputs": [
        {
          "output_type": "stream",
          "name": "stdout",
          "text": [
            "Index of the Series: RangeIndex(start=0, stop=5, step=1)\n"
          ]
        }
      ]
    },
    {
      "cell_type": "code",
      "source": [
        "# Method: head\n",
        "print(\"First few elements of the Series:\")\n",
        "print(series_from_list.head())"
      ],
      "metadata": {
        "colab": {
          "base_uri": "https://localhost:8080/"
        },
        "id": "2eEbcl6uGWtW",
        "outputId": "ec53280f-f558-47c9-d7a7-075084417303"
      },
      "execution_count": 15,
      "outputs": [
        {
          "output_type": "stream",
          "name": "stdout",
          "text": [
            "First few elements of the Series:\n",
            "0    10\n",
            "1    20\n",
            "2    30\n",
            "3    40\n",
            "4    50\n",
            "dtype: int64\n"
          ]
        }
      ]
    },
    {
      "cell_type": "code",
      "source": [
        "# Method: describe\n",
        "print(\"Summary statistics of the Series:\")\n",
        "print(series_from_list.describe())"
      ],
      "metadata": {
        "colab": {
          "base_uri": "https://localhost:8080/"
        },
        "id": "6R-P2mwHGZle",
        "outputId": "326d88ec-feec-4485-b7c9-9c64a3e3051b"
      },
      "execution_count": 16,
      "outputs": [
        {
          "output_type": "stream",
          "name": "stdout",
          "text": [
            "Summary statistics of the Series:\n",
            "count     5.000000\n",
            "mean     30.000000\n",
            "std      15.811388\n",
            "min      10.000000\n",
            "25%      20.000000\n",
            "50%      30.000000\n",
            "75%      40.000000\n",
            "max      50.000000\n",
            "dtype: float64\n"
          ]
        }
      ]
    },
    {
      "cell_type": "markdown",
      "source": [
        "**Operations**"
      ],
      "metadata": {
        "id": "guXYNRO8CORy"
      }
    },
    {
      "cell_type": "code",
      "source": [
        "# Arithmetic operations\n",
        "result_series = series_from_list * 2\n",
        "print(\"Result of multiplying the Series by 2:\")\n",
        "print(result_series)"
      ],
      "metadata": {
        "colab": {
          "base_uri": "https://localhost:8080/"
        },
        "id": "5PZMHdfACSYR",
        "outputId": "913d6bb8-f2d8-4fe3-97d0-96b476afda8f"
      },
      "execution_count": 17,
      "outputs": [
        {
          "output_type": "stream",
          "name": "stdout",
          "text": [
            "Result of multiplying the Series by 2:\n",
            "0     20\n",
            "1     40\n",
            "2     60\n",
            "3     80\n",
            "4    100\n",
            "dtype: int64\n"
          ]
        }
      ]
    },
    {
      "cell_type": "code",
      "source": [
        "# Element-wise operations\n",
        "result_series = series_from_list + series_from_list\n",
        "print(\"Result of adding the Series to itself element-wise:\")\n",
        "print(result_series)"
      ],
      "metadata": {
        "colab": {
          "base_uri": "https://localhost:8080/"
        },
        "id": "vsr2bwaHGb4Q",
        "outputId": "c3f35155-c09d-4e72-d4e5-0e261b888a7e"
      },
      "execution_count": 18,
      "outputs": [
        {
          "output_type": "stream",
          "name": "stdout",
          "text": [
            "Result of adding the Series to itself element-wise:\n",
            "0     20\n",
            "1     40\n",
            "2     60\n",
            "3     80\n",
            "4    100\n",
            "dtype: int64\n"
          ]
        }
      ]
    },
    {
      "cell_type": "markdown",
      "source": [
        "**Handling Missing Data**"
      ],
      "metadata": {
        "id": "2AhR-gXhCVhX"
      }
    },
    {
      "cell_type": "code",
      "source": [
        "# Creating a Series with missing values\n",
        "data_with_missing = [10, None, 30, None, 50]\n",
        "series_with_missing = pd.Series(data_with_missing)\n",
        "\n",
        "print(\"Series with missing values:\")\n",
        "print(series_with_missing)"
      ],
      "metadata": {
        "colab": {
          "base_uri": "https://localhost:8080/"
        },
        "id": "oH569JJ2CW6X",
        "outputId": "d9fa5a97-7517-454b-b85d-64f10fdf1a21"
      },
      "execution_count": 19,
      "outputs": [
        {
          "output_type": "stream",
          "name": "stdout",
          "text": [
            "Series with missing values:\n",
            "0    10.0\n",
            "1     NaN\n",
            "2    30.0\n",
            "3     NaN\n",
            "4    50.0\n",
            "dtype: float64\n"
          ]
        }
      ]
    },
    {
      "cell_type": "code",
      "source": [
        "# Dropping missing values\n",
        "series_without_missing = series_with_missing.dropna()\n",
        "\n",
        "print(\"\\nSeries without missing values:\")\n",
        "print(series_without_missing)"
      ],
      "metadata": {
        "colab": {
          "base_uri": "https://localhost:8080/"
        },
        "id": "phIl3LdtGhHV",
        "outputId": "8a8eaf67-9a00-4793-d126-40649aaec46d"
      },
      "execution_count": 20,
      "outputs": [
        {
          "output_type": "stream",
          "name": "stdout",
          "text": [
            "\n",
            "Series without missing values:\n",
            "0    10.0\n",
            "2    30.0\n",
            "4    50.0\n",
            "dtype: float64\n"
          ]
        }
      ]
    },
    {
      "cell_type": "markdown",
      "source": [
        "### DataFrame\n",
        "A DataFrame is a two-dimensional, size-mutable, and potentially heterogeneous tabular data structure with labeled axes (rows and columns). It is essentially a spreadsheet or SQL table in Python."
      ],
      "metadata": {
        "id": "SCDW72rbY7ad"
      }
    },
    {
      "cell_type": "markdown",
      "source": [
        "**Creating a DataFrame**"
      ],
      "metadata": {
        "id": "1dR8fIYPDsZ-"
      }
    },
    {
      "cell_type": "code",
      "source": [
        "# Creating a DataFrame from a dictionary\n",
        "data = {'Name': ['Alice', 'Bob', 'Charlie'],\n",
        "        'Age': [25, 30, 35],\n",
        "        'City': ['New York', 'Los Angeles', 'Chicago']}\n",
        "df = pd.DataFrame(data)\n",
        "\n",
        "print(\"DataFrame:\")\n",
        "print(df)"
      ],
      "metadata": {
        "colab": {
          "base_uri": "https://localhost:8080/"
        },
        "id": "Wmxj19NgZJ34",
        "outputId": "399deea8-741e-4d2e-ed8a-515969456536"
      },
      "execution_count": 21,
      "outputs": [
        {
          "output_type": "stream",
          "name": "stdout",
          "text": [
            "DataFrame:\n",
            "      Name  Age         City\n",
            "0    Alice   25     New York\n",
            "1      Bob   30  Los Angeles\n",
            "2  Charlie   35      Chicago\n"
          ]
        }
      ]
    },
    {
      "cell_type": "markdown",
      "source": [
        "**Viewing DataFrame**"
      ],
      "metadata": {
        "id": "InqVzgdzDyNm"
      }
    },
    {
      "cell_type": "code",
      "source": [
        "# Viewing the first few rows of the DataFrame\n",
        "print(\"First few rows:\")\n",
        "print(df.head())"
      ],
      "metadata": {
        "colab": {
          "base_uri": "https://localhost:8080/"
        },
        "id": "yL38hX6hD1g8",
        "outputId": "fb5b6872-818d-4339-f582-d77e8e146b4a"
      },
      "execution_count": 22,
      "outputs": [
        {
          "output_type": "stream",
          "name": "stdout",
          "text": [
            "First few rows:\n",
            "      Name  Age         City\n",
            "0    Alice   25     New York\n",
            "1      Bob   30  Los Angeles\n",
            "2  Charlie   35      Chicago\n"
          ]
        }
      ]
    },
    {
      "cell_type": "code",
      "source": [
        "# Viewing summary statistics of the DataFrame\n",
        "print(\"Summary statistics:\")\n",
        "print(df.describe())"
      ],
      "metadata": {
        "colab": {
          "base_uri": "https://localhost:8080/"
        },
        "id": "TMYmvf8NGqiR",
        "outputId": "56246de0-07d5-4441-d30c-8d192626776e"
      },
      "execution_count": 23,
      "outputs": [
        {
          "output_type": "stream",
          "name": "stdout",
          "text": [
            "Summary statistics:\n",
            "        Age\n",
            "count   3.0\n",
            "mean   30.0\n",
            "std     5.0\n",
            "min    25.0\n",
            "25%    27.5\n",
            "50%    30.0\n",
            "75%    32.5\n",
            "max    35.0\n"
          ]
        }
      ]
    },
    {
      "cell_type": "code",
      "source": [
        "# Using print(df) will display the DataFrame as plain text output, or you could directly call `df`\n",
        "df"
      ],
      "metadata": {
        "colab": {
          "base_uri": "https://localhost:8080/",
          "height": 143
        },
        "id": "SAJDFSrTD7-4",
        "outputId": "a41282fc-2080-40c8-99e1-6bf88da8d00c"
      },
      "execution_count": 24,
      "outputs": [
        {
          "output_type": "execute_result",
          "data": {
            "text/plain": [
              "      Name  Age         City\n",
              "0    Alice   25     New York\n",
              "1      Bob   30  Los Angeles\n",
              "2  Charlie   35      Chicago"
            ],
            "text/html": [
              "\n",
              "  <div id=\"df-c2b51a6b-4641-494a-8ce7-6e185e0af738\" class=\"colab-df-container\">\n",
              "    <div>\n",
              "<style scoped>\n",
              "    .dataframe tbody tr th:only-of-type {\n",
              "        vertical-align: middle;\n",
              "    }\n",
              "\n",
              "    .dataframe tbody tr th {\n",
              "        vertical-align: top;\n",
              "    }\n",
              "\n",
              "    .dataframe thead th {\n",
              "        text-align: right;\n",
              "    }\n",
              "</style>\n",
              "<table border=\"1\" class=\"dataframe\">\n",
              "  <thead>\n",
              "    <tr style=\"text-align: right;\">\n",
              "      <th></th>\n",
              "      <th>Name</th>\n",
              "      <th>Age</th>\n",
              "      <th>City</th>\n",
              "    </tr>\n",
              "  </thead>\n",
              "  <tbody>\n",
              "    <tr>\n",
              "      <th>0</th>\n",
              "      <td>Alice</td>\n",
              "      <td>25</td>\n",
              "      <td>New York</td>\n",
              "    </tr>\n",
              "    <tr>\n",
              "      <th>1</th>\n",
              "      <td>Bob</td>\n",
              "      <td>30</td>\n",
              "      <td>Los Angeles</td>\n",
              "    </tr>\n",
              "    <tr>\n",
              "      <th>2</th>\n",
              "      <td>Charlie</td>\n",
              "      <td>35</td>\n",
              "      <td>Chicago</td>\n",
              "    </tr>\n",
              "  </tbody>\n",
              "</table>\n",
              "</div>\n",
              "    <div class=\"colab-df-buttons\">\n",
              "\n",
              "  <div class=\"colab-df-container\">\n",
              "    <button class=\"colab-df-convert\" onclick=\"convertToInteractive('df-c2b51a6b-4641-494a-8ce7-6e185e0af738')\"\n",
              "            title=\"Convert this dataframe to an interactive table.\"\n",
              "            style=\"display:none;\">\n",
              "\n",
              "  <svg xmlns=\"http://www.w3.org/2000/svg\" height=\"24px\" viewBox=\"0 -960 960 960\">\n",
              "    <path d=\"M120-120v-720h720v720H120Zm60-500h600v-160H180v160Zm220 220h160v-160H400v160Zm0 220h160v-160H400v160ZM180-400h160v-160H180v160Zm440 0h160v-160H620v160ZM180-180h160v-160H180v160Zm440 0h160v-160H620v160Z\"/>\n",
              "  </svg>\n",
              "    </button>\n",
              "\n",
              "  <style>\n",
              "    .colab-df-container {\n",
              "      display:flex;\n",
              "      gap: 12px;\n",
              "    }\n",
              "\n",
              "    .colab-df-convert {\n",
              "      background-color: #E8F0FE;\n",
              "      border: none;\n",
              "      border-radius: 50%;\n",
              "      cursor: pointer;\n",
              "      display: none;\n",
              "      fill: #1967D2;\n",
              "      height: 32px;\n",
              "      padding: 0 0 0 0;\n",
              "      width: 32px;\n",
              "    }\n",
              "\n",
              "    .colab-df-convert:hover {\n",
              "      background-color: #E2EBFA;\n",
              "      box-shadow: 0px 1px 2px rgba(60, 64, 67, 0.3), 0px 1px 3px 1px rgba(60, 64, 67, 0.15);\n",
              "      fill: #174EA6;\n",
              "    }\n",
              "\n",
              "    .colab-df-buttons div {\n",
              "      margin-bottom: 4px;\n",
              "    }\n",
              "\n",
              "    [theme=dark] .colab-df-convert {\n",
              "      background-color: #3B4455;\n",
              "      fill: #D2E3FC;\n",
              "    }\n",
              "\n",
              "    [theme=dark] .colab-df-convert:hover {\n",
              "      background-color: #434B5C;\n",
              "      box-shadow: 0px 1px 3px 1px rgba(0, 0, 0, 0.15);\n",
              "      filter: drop-shadow(0px 1px 2px rgba(0, 0, 0, 0.3));\n",
              "      fill: #FFFFFF;\n",
              "    }\n",
              "  </style>\n",
              "\n",
              "    <script>\n",
              "      const buttonEl =\n",
              "        document.querySelector('#df-c2b51a6b-4641-494a-8ce7-6e185e0af738 button.colab-df-convert');\n",
              "      buttonEl.style.display =\n",
              "        google.colab.kernel.accessAllowed ? 'block' : 'none';\n",
              "\n",
              "      async function convertToInteractive(key) {\n",
              "        const element = document.querySelector('#df-c2b51a6b-4641-494a-8ce7-6e185e0af738');\n",
              "        const dataTable =\n",
              "          await google.colab.kernel.invokeFunction('convertToInteractive',\n",
              "                                                    [key], {});\n",
              "        if (!dataTable) return;\n",
              "\n",
              "        const docLinkHtml = 'Like what you see? Visit the ' +\n",
              "          '<a target=\"_blank\" href=https://colab.research.google.com/notebooks/data_table.ipynb>data table notebook</a>'\n",
              "          + ' to learn more about interactive tables.';\n",
              "        element.innerHTML = '';\n",
              "        dataTable['output_type'] = 'display_data';\n",
              "        await google.colab.output.renderOutput(dataTable, element);\n",
              "        const docLink = document.createElement('div');\n",
              "        docLink.innerHTML = docLinkHtml;\n",
              "        element.appendChild(docLink);\n",
              "      }\n",
              "    </script>\n",
              "  </div>\n",
              "\n",
              "\n",
              "<div id=\"df-33ef7c80-99b3-4176-9349-5f184693a4a5\">\n",
              "  <button class=\"colab-df-quickchart\" onclick=\"quickchart('df-33ef7c80-99b3-4176-9349-5f184693a4a5')\"\n",
              "            title=\"Suggest charts\"\n",
              "            style=\"display:none;\">\n",
              "\n",
              "<svg xmlns=\"http://www.w3.org/2000/svg\" height=\"24px\"viewBox=\"0 0 24 24\"\n",
              "     width=\"24px\">\n",
              "    <g>\n",
              "        <path d=\"M19 3H5c-1.1 0-2 .9-2 2v14c0 1.1.9 2 2 2h14c1.1 0 2-.9 2-2V5c0-1.1-.9-2-2-2zM9 17H7v-7h2v7zm4 0h-2V7h2v10zm4 0h-2v-4h2v4z\"/>\n",
              "    </g>\n",
              "</svg>\n",
              "  </button>\n",
              "\n",
              "<style>\n",
              "  .colab-df-quickchart {\n",
              "      --bg-color: #E8F0FE;\n",
              "      --fill-color: #1967D2;\n",
              "      --hover-bg-color: #E2EBFA;\n",
              "      --hover-fill-color: #174EA6;\n",
              "      --disabled-fill-color: #AAA;\n",
              "      --disabled-bg-color: #DDD;\n",
              "  }\n",
              "\n",
              "  [theme=dark] .colab-df-quickchart {\n",
              "      --bg-color: #3B4455;\n",
              "      --fill-color: #D2E3FC;\n",
              "      --hover-bg-color: #434B5C;\n",
              "      --hover-fill-color: #FFFFFF;\n",
              "      --disabled-bg-color: #3B4455;\n",
              "      --disabled-fill-color: #666;\n",
              "  }\n",
              "\n",
              "  .colab-df-quickchart {\n",
              "    background-color: var(--bg-color);\n",
              "    border: none;\n",
              "    border-radius: 50%;\n",
              "    cursor: pointer;\n",
              "    display: none;\n",
              "    fill: var(--fill-color);\n",
              "    height: 32px;\n",
              "    padding: 0;\n",
              "    width: 32px;\n",
              "  }\n",
              "\n",
              "  .colab-df-quickchart:hover {\n",
              "    background-color: var(--hover-bg-color);\n",
              "    box-shadow: 0 1px 2px rgba(60, 64, 67, 0.3), 0 1px 3px 1px rgba(60, 64, 67, 0.15);\n",
              "    fill: var(--button-hover-fill-color);\n",
              "  }\n",
              "\n",
              "  .colab-df-quickchart-complete:disabled,\n",
              "  .colab-df-quickchart-complete:disabled:hover {\n",
              "    background-color: var(--disabled-bg-color);\n",
              "    fill: var(--disabled-fill-color);\n",
              "    box-shadow: none;\n",
              "  }\n",
              "\n",
              "  .colab-df-spinner {\n",
              "    border: 2px solid var(--fill-color);\n",
              "    border-color: transparent;\n",
              "    border-bottom-color: var(--fill-color);\n",
              "    animation:\n",
              "      spin 1s steps(1) infinite;\n",
              "  }\n",
              "\n",
              "  @keyframes spin {\n",
              "    0% {\n",
              "      border-color: transparent;\n",
              "      border-bottom-color: var(--fill-color);\n",
              "      border-left-color: var(--fill-color);\n",
              "    }\n",
              "    20% {\n",
              "      border-color: transparent;\n",
              "      border-left-color: var(--fill-color);\n",
              "      border-top-color: var(--fill-color);\n",
              "    }\n",
              "    30% {\n",
              "      border-color: transparent;\n",
              "      border-left-color: var(--fill-color);\n",
              "      border-top-color: var(--fill-color);\n",
              "      border-right-color: var(--fill-color);\n",
              "    }\n",
              "    40% {\n",
              "      border-color: transparent;\n",
              "      border-right-color: var(--fill-color);\n",
              "      border-top-color: var(--fill-color);\n",
              "    }\n",
              "    60% {\n",
              "      border-color: transparent;\n",
              "      border-right-color: var(--fill-color);\n",
              "    }\n",
              "    80% {\n",
              "      border-color: transparent;\n",
              "      border-right-color: var(--fill-color);\n",
              "      border-bottom-color: var(--fill-color);\n",
              "    }\n",
              "    90% {\n",
              "      border-color: transparent;\n",
              "      border-bottom-color: var(--fill-color);\n",
              "    }\n",
              "  }\n",
              "</style>\n",
              "\n",
              "  <script>\n",
              "    async function quickchart(key) {\n",
              "      const quickchartButtonEl =\n",
              "        document.querySelector('#' + key + ' button');\n",
              "      quickchartButtonEl.disabled = true;  // To prevent multiple clicks.\n",
              "      quickchartButtonEl.classList.add('colab-df-spinner');\n",
              "      try {\n",
              "        const charts = await google.colab.kernel.invokeFunction(\n",
              "            'suggestCharts', [key], {});\n",
              "      } catch (error) {\n",
              "        console.error('Error during call to suggestCharts:', error);\n",
              "      }\n",
              "      quickchartButtonEl.classList.remove('colab-df-spinner');\n",
              "      quickchartButtonEl.classList.add('colab-df-quickchart-complete');\n",
              "    }\n",
              "    (() => {\n",
              "      let quickchartButtonEl =\n",
              "        document.querySelector('#df-33ef7c80-99b3-4176-9349-5f184693a4a5 button');\n",
              "      quickchartButtonEl.style.display =\n",
              "        google.colab.kernel.accessAllowed ? 'block' : 'none';\n",
              "    })();\n",
              "  </script>\n",
              "</div>\n",
              "    </div>\n",
              "  </div>\n"
            ],
            "application/vnd.google.colaboratory.intrinsic+json": {
              "type": "dataframe",
              "variable_name": "df",
              "summary": "{\n  \"name\": \"df\",\n  \"rows\": 3,\n  \"fields\": [\n    {\n      \"column\": \"Name\",\n      \"properties\": {\n        \"dtype\": \"string\",\n        \"num_unique_values\": 3,\n        \"samples\": [\n          \"Alice\",\n          \"Bob\",\n          \"Charlie\"\n        ],\n        \"semantic_type\": \"\",\n        \"description\": \"\"\n      }\n    },\n    {\n      \"column\": \"Age\",\n      \"properties\": {\n        \"dtype\": \"number\",\n        \"std\": 5,\n        \"min\": 25,\n        \"max\": 35,\n        \"num_unique_values\": 3,\n        \"samples\": [\n          25,\n          30,\n          35\n        ],\n        \"semantic_type\": \"\",\n        \"description\": \"\"\n      }\n    },\n    {\n      \"column\": \"City\",\n      \"properties\": {\n        \"dtype\": \"string\",\n        \"num_unique_values\": 3,\n        \"samples\": [\n          \"New York\",\n          \"Los Angeles\",\n          \"Chicago\"\n        ],\n        \"semantic_type\": \"\",\n        \"description\": \"\"\n      }\n    }\n  ]\n}"
            }
          },
          "metadata": {},
          "execution_count": 24
        }
      ]
    },
    {
      "cell_type": "markdown",
      "source": [
        "## Basic DataFrame Operations\n",
        "Indexing, Selection, and Filtering\n",
        "DataFrames allow for indexing and selection of data in a way that's similar to SQL but more flexible."
      ],
      "metadata": {
        "id": "02HPZdbCcbvc"
      }
    },
    {
      "cell_type": "markdown",
      "source": [
        "**Selecting Columns**"
      ],
      "metadata": {
        "id": "IkBbz1Xuci0c"
      }
    },
    {
      "cell_type": "code",
      "source": [
        "# Selecting a single column\n",
        "print(\"Selecting 'Name' column:\")\n",
        "print(df['Name'])"
      ],
      "metadata": {
        "id": "Qh5lixqqcvC3",
        "colab": {
          "base_uri": "https://localhost:8080/"
        },
        "outputId": "ba82d282-283d-4c91-e022-2065abdbb71c"
      },
      "execution_count": 25,
      "outputs": [
        {
          "output_type": "stream",
          "name": "stdout",
          "text": [
            "Selecting 'Name' column:\n",
            "0      Alice\n",
            "1        Bob\n",
            "2    Charlie\n",
            "Name: Name, dtype: object\n"
          ]
        }
      ]
    },
    {
      "cell_type": "code",
      "source": [
        "# Selecting multiple columns\n",
        "print(\"Selecting 'Name' and 'Age' columns:\")\n",
        "print(df[['Name', 'Age']])"
      ],
      "metadata": {
        "colab": {
          "base_uri": "https://localhost:8080/"
        },
        "id": "2-SCxlS4Gt9n",
        "outputId": "ac2e2929-17e4-4a31-997b-8c30c7a6b2b3"
      },
      "execution_count": 26,
      "outputs": [
        {
          "output_type": "stream",
          "name": "stdout",
          "text": [
            "Selecting 'Name' and 'Age' columns:\n",
            "      Name  Age\n",
            "0    Alice   25\n",
            "1      Bob   30\n",
            "2  Charlie   35\n"
          ]
        }
      ]
    },
    {
      "cell_type": "markdown",
      "source": [
        "**Filtering Rows**"
      ],
      "metadata": {
        "id": "W7sryj52cz5J"
      }
    },
    {
      "cell_type": "code",
      "source": [
        "# Filtering rows based on a condition\n",
        "print(\"Filtering rows where Age is greater than 25:\")\n",
        "print(df[df['Age'] > 25])"
      ],
      "metadata": {
        "colab": {
          "base_uri": "https://localhost:8080/"
        },
        "id": "J9Lsfat4c4Yw",
        "outputId": "34897339-fa08-4b2e-8f72-75033c4ef0b4"
      },
      "execution_count": 27,
      "outputs": [
        {
          "output_type": "stream",
          "name": "stdout",
          "text": [
            "Filtering rows where Age is greater than 25:\n",
            "      Name  Age         City\n",
            "1      Bob   30  Los Angeles\n",
            "2  Charlie   35      Chicago\n"
          ]
        }
      ]
    },
    {
      "cell_type": "markdown",
      "source": [
        "**Sorting DataFrame**"
      ],
      "metadata": {
        "id": "iWVn1vjpFK5e"
      }
    },
    {
      "cell_type": "code",
      "source": [
        "# Sorting DataFrame by a column\n",
        "print(\"Sorting DataFrame by 'Age' column:\")\n",
        "print(df.sort_values(by='Age'))"
      ],
      "metadata": {
        "colab": {
          "base_uri": "https://localhost:8080/"
        },
        "id": "CNdSZq0IFPAF",
        "outputId": "d74a2e46-ac92-4828-a012-430cc6826dac"
      },
      "execution_count": 28,
      "outputs": [
        {
          "output_type": "stream",
          "name": "stdout",
          "text": [
            "Sorting DataFrame by 'Age' column:\n",
            "      Name  Age         City\n",
            "0    Alice   25     New York\n",
            "1      Bob   30  Los Angeles\n",
            "2  Charlie   35      Chicago\n"
          ]
        }
      ]
    },
    {
      "cell_type": "markdown",
      "source": [
        "**Grouping and Aggregating**"
      ],
      "metadata": {
        "id": "nWPBMh9-FUIO"
      }
    },
    {
      "cell_type": "code",
      "source": [
        "# Grouping DataFrame by a column and aggregating\n",
        "grouped_df = df.groupby('City').mean()\n",
        "print(\"Grouping by 'City' column and calculating mean:\")\n",
        "print(grouped_df)"
      ],
      "metadata": {
        "colab": {
          "base_uri": "https://localhost:8080/"
        },
        "id": "TM6d31MUFTwu",
        "outputId": "8e6b83b0-6fa3-45eb-8d9b-6c377c48e428"
      },
      "execution_count": 29,
      "outputs": [
        {
          "output_type": "stream",
          "name": "stdout",
          "text": [
            "Grouping by 'City' column and calculating mean:\n",
            "              Age\n",
            "City             \n",
            "Chicago      35.0\n",
            "Los Angeles  30.0\n",
            "New York     25.0\n"
          ]
        },
        {
          "output_type": "stream",
          "name": "stderr",
          "text": [
            "<ipython-input-29-035568debe3f>:2: FutureWarning: The default value of numeric_only in DataFrameGroupBy.mean is deprecated. In a future version, numeric_only will default to False. Either specify numeric_only or select only columns which should be valid for the function.\n",
            "  grouped_df = df.groupby('City').mean()\n"
          ]
        }
      ]
    },
    {
      "cell_type": "markdown",
      "source": [
        "**Joining DataFrames**"
      ],
      "metadata": {
        "id": "x1gNddj4FbAA"
      }
    },
    {
      "cell_type": "code",
      "source": [
        "# Creating another DataFrame\n",
        "data2 = {'City': ['New York', 'Los Angeles', 'Chicago'],\n",
        "         'Population': [8.4, 3.9, 2.7]}\n",
        "df2 = pd.DataFrame(data2)\n",
        "\n",
        "# Inner join with another DataFrame\n",
        "merged_df = pd.merge(df, df2, on='City')\n",
        "print(\"Inner join with another DataFrame:\")\n",
        "print(merged_df)"
      ],
      "metadata": {
        "colab": {
          "base_uri": "https://localhost:8080/"
        },
        "id": "NojrFyjxFh4i",
        "outputId": "ffeb7ff5-cb40-4a7f-e852-80b436c514dd"
      },
      "execution_count": 30,
      "outputs": [
        {
          "output_type": "stream",
          "name": "stdout",
          "text": [
            "Inner join with another DataFrame:\n",
            "      Name  Age         City  Population\n",
            "0    Alice   25     New York         8.4\n",
            "1      Bob   30  Los Angeles         3.9\n",
            "2  Charlie   35      Chicago         2.7\n"
          ]
        }
      ]
    },
    {
      "cell_type": "markdown",
      "source": [
        "**Row and Column Selection**"
      ],
      "metadata": {
        "id": "etWawmmTc-N2"
      }
    },
    {
      "cell_type": "code",
      "source": [
        "# Select rows 0 to 2 (inclusive) and all columns\n",
        "print(df.loc[0:2, :])"
      ],
      "metadata": {
        "colab": {
          "base_uri": "https://localhost:8080/"
        },
        "id": "U0VnMq0fdBLi",
        "outputId": "c11dee58-1ffc-4db2-834f-92ab22872057"
      },
      "execution_count": 31,
      "outputs": [
        {
          "output_type": "stream",
          "name": "stdout",
          "text": [
            "      Name  Age         City\n",
            "0    Alice   25     New York\n",
            "1      Bob   30  Los Angeles\n",
            "2  Charlie   35      Chicago\n"
          ]
        }
      ]
    },
    {
      "cell_type": "code",
      "source": [
        "# Select rows by index and columns by name\n",
        "print(df.loc[0:2, ['Name', 'Age']])"
      ],
      "metadata": {
        "colab": {
          "base_uri": "https://localhost:8080/"
        },
        "id": "kkSZR5kIpIU_",
        "outputId": "2adf4615-30d8-494e-c8f7-62ad662e16cf"
      },
      "execution_count": 32,
      "outputs": [
        {
          "output_type": "stream",
          "name": "stdout",
          "text": [
            "      Name  Age\n",
            "0    Alice   25\n",
            "1      Bob   30\n",
            "2  Charlie   35\n"
          ]
        }
      ]
    },
    {
      "cell_type": "markdown",
      "source": [
        "## Reading and Writing Data\n",
        "Pandas supports a variety of file formats, making it easy to read data from and write data to different sources.\n",
        "\n",
        "**Reading Data**\n",
        "\n",
        "To read data in Python using Google Colab, you can follow these steps:\n",
        "\n",
        "1. Upload Data: First, you need to upload your data files to Google Colab. You can do this by clicking on the \"Files\" tab on the left sidebar, then clicking on the \"Upload\" button and selecting the files you want to upload from your local machine.\n",
        "\n",
        "2. Mount Google Drive (Optional): If your data is stored in Google Drive, you can mount your Google Drive in Colab using the following code:"
      ],
      "metadata": {
        "id": "d2EdSKFeakwc"
      }
    },
    {
      "cell_type": "code",
      "source": [
        "from google.colab import drive\n",
        "drive.mount('/content/drive')"
      ],
      "metadata": {
        "id": "hxW06AGL812y"
      },
      "execution_count": null,
      "outputs": []
    },
    {
      "cell_type": "markdown",
      "source": [
        "This will prompt you to authenticate and give Colab access to your Google Drive. Once mounted, you can access your files using the path /content/drive/."
      ],
      "metadata": {
        "id": "_y4V5ysF85Lp"
      }
    },
    {
      "cell_type": "markdown",
      "source": [
        "Now that your data is uploaded or accessible, you can use pandas to read the data into your Colab notebook. For example, if you have a CSV file named `data.csv`, you can read it into a pandas DataFrame using the following code. Make sure that the CSV file is located in the same directory as your Colab notebook, or provide the full path to the CSV file if it's located elsewhere. This code will read the CSV file into the DataFrame `df`."
      ],
      "metadata": {
        "id": "CJLZw79x8-nO"
      }
    },
    {
      "cell_type": "code",
      "source": [
        "#### Notice: Below code are examples, if you run them without having the files avaliable you will get errors\n",
        "\n",
        "# Reading a CSV file\n",
        "# Assuming 'data.csv' is located in '/content/drive/MyDrive/datasets/'\n",
        "file_path = '/content/drive/MyDrive/datasets/data.csv'\n",
        "df = pd.read_csv(file_path)\n",
        "\n",
        "# If 'data.csv' is located in the same directory as your Colab notebook you can directly read it\n",
        "df = pd.read_csv('data.csv')\n",
        "\n",
        "# Reading an Excel file\n",
        "df = pd.read_excel('data.xlsx')"
      ],
      "metadata": {
        "id": "ACXJ7pAaC-qD"
      },
      "execution_count": null,
      "outputs": []
    },
    {
      "cell_type": "markdown",
      "source": [
        "**Writing Data**"
      ],
      "metadata": {
        "id": "kEnlwgL0bwGB"
      }
    },
    {
      "cell_type": "code",
      "source": [
        "# Assuming you have a DataFrame called 'df' that you want to write to CSV\n",
        "df.to_csv('output.csv', index=False)"
      ],
      "metadata": {
        "id": "-T_hW9ngF-TJ"
      },
      "execution_count": null,
      "outputs": []
    },
    {
      "cell_type": "markdown",
      "source": [
        "This will write the DataFrame data to a CSV file named `data.csv` in the current directory of your Colab environment. Setting index=False ensures that the DataFrame index is not included in the CSV file."
      ],
      "metadata": {
        "id": "fcPCB-9w9zQr"
      }
    },
    {
      "cell_type": "code",
      "source": [
        "# Assuming you have a DataFrame called 'df' that you want to write to Excel\n",
        "df.to_excel('output.xlsx', index=False)"
      ],
      "metadata": {
        "id": "45FtG8UA9wJW"
      },
      "execution_count": null,
      "outputs": []
    },
    {
      "cell_type": "code",
      "source": [
        "# Or you can define an output path\n",
        "output_file_path = '/content/drive/MyDrive/output/output.csv'\n",
        "\n",
        "# Assuming 'df' is your DataFrame and 'output_file_path' is the desired path\n",
        "df.to_csv(output_file_path, index=False)"
      ],
      "metadata": {
        "id": "LkbFRLm2_HxN"
      },
      "execution_count": null,
      "outputs": []
    },
    {
      "cell_type": "markdown",
      "source": [
        "<div class=\"markdown-google-sans\">\n",
        "\n",
        "# More resources\n",
        "\n",
        "### Working with notebooks in Colab\n",
        "\n",
        "</div>\n",
        "\n",
        "- [Overview of Colaboratory](/notebooks/basic_features_overview.ipynb)\n",
        "- [Guide to markdown](/notebooks/markdown_guide.ipynb)\n",
        "- [Importing libraries and installing dependencies](/notebooks/snippets/importing_libraries.ipynb)\n",
        "- [Saving and loading notebooks in GitHub](https://colab.research.google.com/github/googlecolab/colabtools/blob/main/notebooks/colab-github-demo.ipynb)\n",
        "- [Interactive forms](/notebooks/forms.ipynb)\n",
        "- [Interactive widgets](/notebooks/widgets.ipynb)\n",
        "\n",
        "<div class=\"markdown-google-sans\">\n",
        "\n",
        "<a name=\"working-with-data\"></a>\n",
        "### Working with data\n",
        "</div>\n",
        "\n",
        "- [Loading data: Drive, Sheets and Google Cloud Storage](/notebooks/io.ipynb)\n",
        "- [Charts: visualising data](/notebooks/charts.ipynb)\n",
        "- [Intro to Pandas DataFrame](https://colab.research.google.com/github/google/eng-edu/blob/main/ml/cc/exercises/pandas_dataframe_ultraquick_tutorial.ipynb)\n"
      ],
      "metadata": {
        "id": "zGF8LgXEkM4o"
      }
    }
  ]
}